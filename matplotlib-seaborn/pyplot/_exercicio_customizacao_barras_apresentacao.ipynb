{
 "cells": [
  {
   "cell_type": "markdown",
   "metadata": {},
   "source": [
    "## Exercício - Gráfico de barras\n",
    "\n",
    "Você deve criar um gráfico de barras com as calorias por 100 g de alimento. Os dados estão na primeira célula do Jupyter Notebook. O gráfico deve ter as seguintes características:\n",
    "\n",
    "- Título: Calorias por 100 g de alimento\n",
    "- Título: O título do gráfico deve estar na cor cinza, em negrito e com tamanho de fonte 14\n",
    "- Eixos: Alimento (eixo X) e Calorias (eixo Y)\n",
    "- Os nomes compostos dos alimentos devem ser quebrados em duas linhas\n",
    "- Cores: Todas as barras devem ser cinza\n",
    "- Transparência: Todas as barras devem ter transparência de 50%\n",
    "- Cor de uma barra específica: A barra do bacon deve ser vermelha e ter transparência de 80%\n",
    "- Rótulos: Os rótulos de cada barra devem estar em negrito e na cor branca\n",
    "- Rótulos: Os rótulos de cada barra devem estar dentro da barra\n",
    "- Ticks: Os ticks do eixo Y devem ser removidos\n",
    "- Ticks: Os ticks do eixo X devem ser removidos\n",
    "- Box: A caixa do gráfico deve ser removida\n",
    "- Grid: O grid do gráfico deve ser removido\n",
    "- Figura: A figura deve ter tamanho 8x5\n",
    "- Figura: A figura deve ser salva com o nome grafico_barras.png, com 300 dpi de resolução e com a área de plotagem ajustada\n",
    "- Figura: A figura deve ser salva numa pasta chamada `imagens` que deve estar no mesmo diretório do Jupyter Notebook."
   ]
  },
  {
   "cell_type": "code",
   "execution_count": 4,
   "metadata": {
    "ExecuteTime": {
     "end_time": "2023-07-18T19:12:39.566067500Z",
     "start_time": "2023-07-18T19:12:39.556064100Z"
    },
    "collapsed": true,
    "jupyter": {
     "outputs_hidden": true
    }
   },
   "outputs": [
    {
     "name": "stdout",
     "output_type": "stream",
     "text": [
      "['Batata\\nFrita', 'Batata\\nChips', 'Bacon', 'Pizza', 'Cachorro\\nQuente']\n",
      "['Batata Frita', 'Batata Chips', 'Bacon', 'Pizza', 'Cachorro Quente']\n",
      "[607, 542, 533, 296, 260]\n"
     ]
    }
   ],
   "source": [
    "# valores por 100 g do alimento\n",
    "calorias_por_alimento = {\n",
    "    \"Batata Frita\": 607,\n",
    "    \"Batata Chips\": 542,\n",
    "    \"Bacon\": 533,\n",
    "    \"Pizza\": 296,\n",
    "    \"Cachorro Quente\": 260\n",
    "}\n",
    "\n",
    "lista_dados_KCAL = list(calorias_por_alimento.values())\n",
    "lista_dados_ALIMENTOS = list(calorias_por_alimento.keys())\n",
    "lista_dados_ALIMENTOS_quebrando_linha = [i.replace(' ', '\\n') for i in lista_dados_ALIMENTOS]\n",
    "print(lista_dados_ALIMENTOS_quebrando_linha)\n",
    "print(lista_dados_ALIMENTOS)\n",
    "print(lista_dados_KCAL)"
   ]
  },
  {
   "cell_type": "code",
   "execution_count": 5,
   "metadata": {},
   "outputs": [
    {
     "data": {
      "image/png": "[encoded data removed]",
      "text/plain": [
       "<Figure size 800x500 with 1 Axes>"
      ]
     },
     "metadata": {},
     "output_type": "display_data"
    }
   ],
   "source": [
    "import matplotlib.pyplot as plt\n",
    "\n",
    "plt.figure(figsize=(8,5))\n",
    "barras = plt.bar(lista_dados_ALIMENTOS_quebrando_linha, lista_dados_KCAL, color='dimgray', alpha=0.5)\n",
    "\n",
    "plt.title('Calorias por 100g de alimento', fontweight='bold', fontsize=14, color='dimgray')\n",
    "#plt.ylabel('Calorias', fontweight='bold')\n",
    "#plt.xlabel('Alimentos', fontweight='bold')\n",
    "\n",
    "for i, barra in enumerate(barras):\n",
    "    if i == lista_dados_ALIMENTOS.index('Bacon'):\n",
    "        barras[i].set_color('darkred')\n",
    "        barras[i].set_alpha(0.8)\n",
    "\n",
    "plt.bar_label(barras, labels=lista_dados_KCAL, padding=-15, fontweight='bold', color='white')\n",
    "\n",
    "plt.box(False)\n",
    "plt.yticks([])\n",
    "plt.tick_params('x', length=0)\n",
    "plt.grid(False)\n",
    "\n",
    "plt.savefig('grafico_barras.png', bbox_inches='tight', dpi=300)\n",
    "\n",
    "plt.show()"
   ]
  }
 ],
 "metadata": {
  "kernelspec": {
   "display_name": "Python 3",
   "language": "python",
   "name": "python3"
  },
  "language_info": {
   "codemirror_mode": {
    "name": "ipython",
    "version": 3
   },
   "file_extension": ".py",
   "mimetype": "text/x-python",
   "name": "python",
   "nbconvert_exporter": "python",
   "pygments_lexer": "ipython3",
   "version": "3.13.2"
  }
 },
 "nbformat": 4,
 "nbformat_minor": 4
}
