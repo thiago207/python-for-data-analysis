{
 "cells": [
  {
   "cell_type": "code",
   "execution_count": null,
   "id": "53d00397",
   "metadata": {},
   "outputs": [],
   "source": [
    "import pandas as pd\n",
    "\n",
    "exportacao_df = pd.read_csv(r'C:\\Users\\Pichau\\Documents\\estudos\\modulos-python\\modulos-python\\pandas\\exercicios\\IMP_COMPLETA.csv', sep=';', encoding='latin1')\n",
    "display(exportacao_df)\n",
    "#condicao = (exportacao_df['Country'] == 'France') & (exportacao_df['Year'] >= 2017)\n",
    "#dados_formatados = exportacao_df.loc[condicao]\n",
    "#dados_formatados.to_csv('dados_formatados.csv', index=False)"
   ]
  }
 ],
 "metadata": {
  "kernelspec": {
   "display_name": "Python 3",
   "language": "python",
   "name": "python3"
  },
  "language_info": {
   "codemirror_mode": {
    "name": "ipython",
    "version": 3
   },
   "file_extension": ".py",
   "mimetype": "text/x-python",
   "name": "python",
   "nbconvert_exporter": "python",
   "pygments_lexer": "ipython3",
   "version": "3.13.2"
  }
 },
 "nbformat": 4,
 "nbformat_minor": 5
}
