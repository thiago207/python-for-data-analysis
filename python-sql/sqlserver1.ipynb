{
 "cells": [
  {
   "cell_type": "code",
   "execution_count": null,
   "id": "7f1ad10c",
   "metadata": {},
   "outputs": [
    {
     "name": "stdout",
     "output_type": "stream",
     "text": [
      "['SQL Server', 'SQL Server Native Client RDA 11.0', 'ODBC Driver 17 for SQL Server', 'SQLite3 ODBC Driver', 'SQLite ODBC Driver', 'SQLite ODBC (UTF-8) Driver']\n"
     ]
    }
   ],
   "source": [
    "import pyodbc\n",
    "import pandas as pd\n",
    "\n",
    "\n",
    "print(pyodbc.drivers())\n",
    "\n",
    "dados_conexao = ( \"Driver={SQL Server};\"\n",
    "                 \"Server=localhost;\"\n",
    "                \"Database=ContosoRetailDW.bak;\"\n",
    "                \"Trusted_Connection=yes;\")\n",
    "\n",
    "conexao = pyodbc.connect(dados_conexao)\n",
    "\n",
    "cursor = conexao.cursor()"
   ]
  }
 ],
 "metadata": {
  "kernelspec": {
   "display_name": "Python 3",
   "language": "python",
   "name": "python3"
  },
  "language_info": {
   "codemirror_mode": {
    "name": "ipython",
    "version": 3
   },
   "file_extension": ".py",
   "mimetype": "text/x-python",
   "name": "python",
   "nbconvert_exporter": "python",
   "pygments_lexer": "ipython3",
   "version": "3.13.2"
  }
 },
 "nbformat": 4,
 "nbformat_minor": 5
}
