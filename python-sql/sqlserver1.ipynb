{
 "cells": [
  {
   "cell_type": "markdown",
   "id": "84cc821d",
   "metadata": {},
   "source": [
    "**Integrando o banco de dados Contoso que estou trabalhando no repositorio de sql na parte de SQLServer**"
   ]
  },
  {
   "cell_type": "markdown",
   "id": "c7d9f4cd",
   "metadata": {},
   "source": [
    "nesse arquivo vou fazer algumas manipulacoes de dados e grafico das mesmas para pratica"
   ]
  },
  {
   "cell_type": "code",
   "execution_count": null,
   "id": "7f1ad10c",
   "metadata": {},
   "outputs": [
    {
     "name": "stdout",
     "output_type": "stream",
     "text": [
      "['SQL Server', 'SQL Server Native Client RDA 11.0', 'ODBC Driver 17 for SQL Server', 'SQLite3 ODBC Driver', 'SQLite ODBC Driver', 'SQLite ODBC (UTF-8) Driver']\n"
     ]
    },
    {
     "data": {
      "text/plain": [
       "[('Contoso 512MB MP3 Player E51 Silver',),\n",
       " ('Contoso 512MB MP3 Player E51 Blue',),\n",
       " ('Contoso 1G MP3 Player E100 White',),\n",
       " ('Contoso 2G MP3 Player E200 Silver',),\n",
       " ('Contoso 2G MP3 Player E200 Red',),\n",
       " ('Contoso 2G MP3 Player E200 Black',),\n",
       " ('Contoso 2G MP3 Player E200 Blue',),\n",
       " ('Contoso 4G MP3 Player E400 Silver',),\n",
       " ('Contoso 4G MP3 Player E400 Black',),\n",
       " ('Contoso 4G MP3 Player E400 Green',)]"
      ]
     },
     "metadata": {},
     "output_type": "display_data"
    }
   ],
   "source": [
    "import pyodbc\n",
    "import pandas as pd\n",
    "\n",
    "\n",
    "print(pyodbc.drivers())\n",
    "\n",
    "conn = pyodbc.connect(\n",
    "    'DRIVER={ODBC Driver 17 for SQL Server};'\n",
    "    'SERVER=DESKTOP-BP24CBR;'\n",
    "    'DATABASE=ContosoRetailDW;'\n",
    "    'Trusted_Connection=yes;'\n",
    ")\n",
    "\n",
    "cursor = conn.cursor()\n",
    "\n",
    "\n",
    "cursor.execute('select ProductName from DimProduct')\n",
    "\n",
    "valores = cursor.fetchall()\n",
    "\n",
    "display(valores[:10])\n",
    "\n",
    "\n",
    "cursor.close"
   ]
  }
 ],
 "metadata": {
  "kernelspec": {
   "display_name": "Python 3",
   "language": "python",
   "name": "python3"
  },
  "language_info": {
   "codemirror_mode": {
    "name": "ipython",
    "version": 3
   },
   "file_extension": ".py",
   "mimetype": "text/x-python",
   "name": "python",
   "nbconvert_exporter": "python",
   "pygments_lexer": "ipython3",
   "version": "3.13.2"
  }
 },
 "nbformat": 4,
 "nbformat_minor": 5
}
