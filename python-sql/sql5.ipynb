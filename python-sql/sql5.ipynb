{
 "cells": [
  {
   "cell_type": "markdown",
   "id": "54ffdbfc",
   "metadata": {},
   "source": [
    "update\n"
   ]
  },
  {
   "cell_type": "code",
   "execution_count": 10,
   "id": "f80a0203",
   "metadata": {},
   "outputs": [],
   "source": [
    "import pyodbc\n",
    "import pandas as pd\n",
    "\n",
    "dados_conexao = ( \"Driver={SQLite3 ODBC Driver};\"\n",
    "                 \"Server=localhost;\"\n",
    "                \"Database=chinook.db.db;\")\n",
    "\n",
    "conexao = pyodbc.connect(dados_conexao)\n",
    "\n",
    "cursor = conexao.cursor()"
   ]
  },
  {
   "cell_type": "code",
   "execution_count": 11,
   "id": "2f0b65e8",
   "metadata": {},
   "outputs": [],
   "source": [
    "cursor.execute('''\n",
    "    UPDATE customers SET Email = \"EMAILTESTE@GMAIL.COM\" WHERE CustomerId = 1\n",
    "''')\n",
    "\n",
    "cursor.commit()\n",
    "\n"
   ]
  },
  {
   "cell_type": "markdown",
   "id": "77871234",
   "metadata": {},
   "source": [
    "delete"
   ]
  },
  {
   "cell_type": "code",
   "execution_count": 12,
   "id": "8e5221d2",
   "metadata": {},
   "outputs": [],
   "source": [
    "cursor.execute('''\n",
    "DELETE FROM customers WHERE CustomerId = 1\n",
    "''')\n",
    "\n",
    "\n",
    "cursor.commit()\n",
    "cursor.close()\n",
    "conexao.close()"
   ]
  }
 ],
 "metadata": {
  "kernelspec": {
   "display_name": "Python 3",
   "language": "python",
   "name": "python3"
  },
  "language_info": {
   "codemirror_mode": {
    "name": "ipython",
    "version": 3
   },
   "file_extension": ".py",
   "mimetype": "text/x-python",
   "name": "python",
   "nbconvert_exporter": "python",
   "pygments_lexer": "ipython3",
   "version": "3.13.2"
  }
 },
 "nbformat": 4,
 "nbformat_minor": 5
}
