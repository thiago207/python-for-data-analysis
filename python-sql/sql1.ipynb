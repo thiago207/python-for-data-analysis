{
    "cells": [
        {
            "cell_type": "code",
            "execution_count": 8,
            "id": "99c745ef",
            "metadata": {},
            "outputs": [
                {
                    "name": "stdout",
                    "output_type": "stream",
                    "text": [
                        "['SQL Server', 'SQL Server Native Client RDA 11.0', 'ODBC Driver 17 for SQL Server', 'SQLite3 ODBC Driver', 'SQLite ODBC Driver', 'SQLite ODBC (UTF-8) Driver']\n"
                    ]
                }
            ],
            "source": [
                "import pyodbc\n",
                "\n",
                "print(pyodbc.drivers())"
            ]
        },
        {
            "cell_type": "code",
            "execution_count": null,
            "id": "db4be24c",
            "metadata": {},
            "outputs": [],
            "source": [
                "dados_conexao = ( \"Driver={SQLite3 ODBC Driver};\"\n",
                "                 \"Server=localhost;\"\n",
                "                \"Database=chinook.db;\")\n",
                "\n",
                "conexao = pyodbc.connect(dados_conexao)\n",
                "\n",
                "#caso precisasse de login e senha:\n",
                "#dados_conexao = (\"Driver={Seu_Driver};\"\n",
                "#            \"Server=Seu_Servidor;\"\n",
                "#            \"Database=NomeBaseDeDados;\"\n",
                "#            \"UID=Login;\"\n",
                "#            \"PWD=Senha;\")\n",
                "\n",
                "\n",
                "cursor = conexao.cursor()"
            ]
        },
        {
            "cell_type": "code",
            "execution_count": 10,
            "id": "63367949",
            "metadata": {},
            "outputs": [
                {
                    "ename": "TypeError",
                    "evalue": "execute() takes at least 1 argument (0 given)",
                    "output_type": "error",
                    "traceback": [
                        "\u001b[31m---------------------------------------------------------------------------\u001b[39m",
                        "\u001b[31mTypeError\u001b[39m                                 Traceback (most recent call last)",
                        "\u001b[36mCell\u001b[39m\u001b[36m \u001b[39m\u001b[32mIn[10]\u001b[39m\u001b[32m, line 1\u001b[39m\n\u001b[32m----> \u001b[39m\u001b[32m1\u001b[39m \u001b[43mcursor\u001b[49m\u001b[43m.\u001b[49m\u001b[43mexecute\u001b[49m\u001b[43m(\u001b[49m\u001b[43m)\u001b[49m\n",
                        "\u001b[31mTypeError\u001b[39m: execute() takes at least 1 argument (0 given)"
                    ]
                }
            ],
            "source": [
                "cursor.execute()"
            ]
        },
        {
            "cell_type": "code",
            "execution_count": null,
            "id": "af90b629",
            "metadata": {},
            "outputs": [],
            "source": [
                "cursor.close()\n",
                "conexao.close()"
            ]
        }
    ],
    "metadata": {
        "kernelspec": {
            "display_name": "Python 3",
            "language": "python",
            "name": "python3"
        },
        "language_info": {
            "codemirror_mode": {
                "name": "ipython",
                "version": 3
            },
            "file_extension": ".py",
            "mimetype": "text/x-python",
            "name": "python",
            "nbconvert_exporter": "python",
            "pygments_lexer": "ipython3",
            "version": "3.13.2"
        }
    },
    "nbformat": 4,
    "nbformat_minor": 5
}
