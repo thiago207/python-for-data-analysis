{
    "cells": [
        {
            "cell_type": "code",
            "execution_count": 19,
            "id": "99c745ef",
            "metadata": {},
            "outputs": [
                {
                    "name": "stdout",
                    "output_type": "stream",
                    "text": [
                        "['SQL Server', 'SQL Server Native Client RDA 11.0', 'ODBC Driver 17 for SQL Server', 'SQLite3 ODBC Driver', 'SQLite ODBC Driver', 'SQLite ODBC (UTF-8) Driver']\n"
                    ]
                }
            ],
            "source": [
                "import pyodbc\n",
                "import pandas as pd\n",
                "\n",
                "\n",
                "print(pyodbc.drivers())"
            ]
        },
        {
            "cell_type": "code",
            "execution_count": 20,
            "id": "db4be24c",
            "metadata": {},
            "outputs": [],
            "source": [
                "dados_conexao = ( \"Driver={SQLite3 ODBC Driver};\"\n",
                "                 \"Server=localhost;\"\n",
                "                \"Database=salarios.sqlite;\")\n",
                "\n",
                "conexao = pyodbc.connect(dados_conexao)\n",
                "\n",
                "#caso precisasse de login e senha:\n",
                "#dados_conexao = (\"Driver={Seu_Driver};\"\n",
                "#            \"Server=Seu_Servidor;\"\n",
                "#            \"Database=NomeBaseDeDados;\"\n",
                "#            \"UID=Login;\"\n",
                "#            \"PWD=Senha;\")\n",
                "\n",
                "\n",
                "cursor = conexao.cursor()"
            ]
        },
        {
            "cell_type": "markdown",
            "id": "8c450862",
            "metadata": {},
            "source": [
                "3. Agora já podemos executar nossos comandos SQL.\n",
                "\n",
                "Temos 2 opções aqui:\n",
                "\n",
                "    1. Apenas Executar comandos SQL que vão acontecer no banco\n",
                "    2. Executar o comando SQL e armazenar a consulta em uma variável no Python, como um dataframe do pandas\n"
            ]
        },
        {
            "cell_type": "code",
            "execution_count": 25,
            "id": "63367949",
            "metadata": {},
            "outputs": [
                {
                    "data": {
                        "text/plain": [
                            "[(1, 'NATHANIEL FORD', 'GENERAL MANAGER-METROPOLITAN TRANSIT AUTHORITY', 167411.18, 0.0, 400184.25, None, 567595.43, 567595.43, 2011, '', 'San Francisco', ''),\n",
                            " (2, 'GARY JIMENEZ', 'CAPTAIN III (POLICE DEPARTMENT)', 155966.02, 245131.88, 137811.38, None, 538909.28, 538909.28, 2011, '', 'San Francisco', ''),\n",
                            " (3, 'ALBERT PARDINI', 'CAPTAIN III (POLICE DEPARTMENT)', 212739.13, 106088.18, 16452.6, None, 335279.91, 335279.91, 2011, '', 'San Francisco', ''),\n",
                            " (4, 'CHRISTOPHER CHONG', 'WIRE ROPE CABLE MAINTENANCE MECHANIC', 77916.0, 56120.71, 198306.9, None, 332343.61, 332343.61, 2011, '', 'San Francisco', ''),\n",
                            " (5, 'PATRICK GARDNER', 'DEPUTY CHIEF OF DEPARTMENT,(FIRE DEPARTMENT)', 134401.6, 9737.0, 182234.59, None, 326373.19, 326373.19, 2011, '', 'San Francisco', ''),\n",
                            " (6, 'DAVID SULLIVAN', 'ASSISTANT DEPUTY CHIEF II', 118602.0, 8601.0, 189082.74, None, 316285.74, 316285.74, 2011, '', 'San Francisco', ''),\n",
                            " (7, 'ALSON LEE', 'BATTALION CHIEF, (FIRE DEPARTMENT)', 92492.01, 89062.9, 134426.14, None, 315981.05, 315981.05, 2011, '', 'San Francisco', ''),\n",
                            " (8, 'DAVID KUSHNER', 'DEPUTY DIRECTOR OF INVESTMENTS', 256576.96, 0.0, 51322.5, None, 307899.46, 307899.46, 2011, '', 'San Francisco', ''),\n",
                            " (9, 'MICHAEL MORRIS', 'BATTALION CHIEF, (FIRE DEPARTMENT)', 176932.64, 86362.68, 40132.23, None, 303427.55, 303427.55, 2011, '', 'San Francisco', ''),\n",
                            " (10, 'JOANNE HAYES-WHITE', 'CHIEF OF DEPARTMENT, (FIRE DEPARTMENT)', 285262.0, 0.0, 17115.73, None, 302377.73, 302377.73, 2011, '', 'San Francisco', '')]"
                        ]
                    },
                    "metadata": {},
                    "output_type": "display_data"
                }
            ],
            "source": [
                "cursor.execute('SELECT * FROM Salaries')\n",
                "\n",
                "valores = cursor.fetchall()\n",
                "\n",
                "display(valores[:10])"
            ]
        },
        {
            "cell_type": "code",
            "execution_count": null,
            "id": "af90b629",
            "metadata": {},
            "outputs": [],
            "source": [
                "cursor.close()\n",
                "conexao.close()"
            ]
        }
    ],
    "metadata": {
        "kernelspec": {
            "display_name": "Python 3",
            "language": "python",
            "name": "python3"
        },
        "language_info": {
            "codemirror_mode": {
                "name": "ipython",
                "version": 3
            },
            "file_extension": ".py",
            "mimetype": "text/x-python",
            "name": "python",
            "nbconvert_exporter": "python",
            "pygments_lexer": "ipython3",
            "version": "3.13.2"
        }
    },
    "nbformat": 4,
    "nbformat_minor": 5
}
